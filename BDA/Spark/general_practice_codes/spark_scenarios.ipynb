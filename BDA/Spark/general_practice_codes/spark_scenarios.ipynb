{
 "cells": [
  {
   "cell_type": "markdown",
   "metadata": {},
   "source": [
    "# SPARK SCENARIOS "
   ]
  },
  {
   "cell_type": "code",
   "execution_count": 1,
   "metadata": {},
   "outputs": [],
   "source": [
    "from pyspark.sql import SparkSession,DataFrame\n",
    "import pyspark.sql.functions as F"
   ]
  },
  {
   "cell_type": "code",
   "execution_count": 2,
   "metadata": {},
   "outputs": [],
   "source": [
    "spark=SparkSession.builder.\\\n",
    "appName(\"spark_scenarios\").\\\n",
    "getOrCreate()"
   ]
  },
  {
   "cell_type": "code",
   "execution_count": 3,
   "metadata": {},
   "outputs": [],
   "source": [
    "# %config Completer.use_jedi = False\n",
    "# !pip install --upgrade jedi==0.17.2"
   ]
  },
  {
   "cell_type": "markdown",
   "metadata": {},
   "source": [
    "1. Recursively read file from folders"
   ]
  },
  {
   "cell_type": "markdown",
   "metadata": {},
   "source": [
    "a. Using recursiveFileLookup option in spark 3.0 +"
   ]
  },
  {
   "cell_type": "code",
   "execution_count": 4,
   "metadata": {},
   "outputs": [
    {
     "data": {
      "text/plain": [
       "25"
      ]
     },
     "execution_count": 4,
     "metadata": {},
     "output_type": "execute_result"
    }
   ],
   "source": [
    "spark.read.options(recursiveFileLookup=True,inferSchema=True,delimiter=\"\\t\").\\\n",
    "csv(\"/user/itv452844/test_data/recursive_read/hr_db\").count()"
   ]
  },
  {
   "cell_type": "code",
   "execution_count": 5,
   "metadata": {},
   "outputs": [],
   "source": [
    "# ! hadoop fs -cat /user/itv452844/test_data/recursive_read/hr_db/part1/part-m-00000"
   ]
  },
  {
   "cell_type": "markdown",
   "metadata": {},
   "source": [
    "2. Replace Values from an arrayType Column"
   ]
  },
  {
   "cell_type": "code",
   "execution_count": 6,
   "metadata": {},
   "outputs": [],
   "source": [
    "from pyspark.sql import Row\n",
    "from pyspark.sql.types import StructType,StructField,ArrayType,IntegerType,StringType"
   ]
  },
  {
   "cell_type": "markdown",
   "metadata": {},
   "source": [
    "* create test dataframe with arrayType column"
   ]
  },
  {
   "cell_type": "code",
   "execution_count": 7,
   "metadata": {},
   "outputs": [
    {
     "data": {
      "text/html": [
       "<div>\n",
       "<style scoped>\n",
       "    .dataframe tbody tr th:only-of-type {\n",
       "        vertical-align: middle;\n",
       "    }\n",
       "\n",
       "    .dataframe tbody tr th {\n",
       "        vertical-align: top;\n",
       "    }\n",
       "\n",
       "    .dataframe thead th {\n",
       "        text-align: right;\n",
       "    }\n",
       "</style>\n",
       "<table border=\"1\" class=\"dataframe\">\n",
       "  <thead>\n",
       "    <tr style=\"text-align: right;\">\n",
       "      <th></th>\n",
       "      <th>id</th>\n",
       "      <th>val</th>\n",
       "    </tr>\n",
       "  </thead>\n",
       "  <tbody>\n",
       "    <tr>\n",
       "      <th>0</th>\n",
       "      <td>1</td>\n",
       "      <td>[null, 2, null, 2, 4]</td>\n",
       "    </tr>\n",
       "  </tbody>\n",
       "</table>\n",
       "</div>"
      ],
      "text/plain": [
       "   id                    val\n",
       "0   1  [null, 2, null, 2, 4]"
      ]
     },
     "execution_count": 7,
     "metadata": {},
     "output_type": "execute_result"
    }
   ],
   "source": [
    "schema=StructType([StructField('id',IntegerType()),StructField('val',ArrayType(StringType()))])\n",
    "\n",
    "row={'id':1,'val':['null','2','null','2','4']}\n",
    "\n",
    "df=spark.createDataFrame([Row(**row)],schema=schema)\n",
    "\n",
    "df.toPandas() # input dataframe"
   ]
  },
  {
   "cell_type": "code",
   "execution_count": 8,
   "metadata": {},
   "outputs": [],
   "source": [
    "df.createOrReplaceTempView(\"dfTable\") # regestering as a temp view for querying"
   ]
  },
  {
   "cell_type": "code",
   "execution_count": 9,
   "metadata": {},
   "outputs": [
    {
     "data": {
      "text/html": [
       "<table border='1'>\n",
       "<tr><th>id</th><th>val</th></tr>\n",
       "<tr><td>1</td><td>[, 2, , 2, 4]</td></tr>\n",
       "</table>\n"
      ],
      "text/plain": [
       "+---+-------------+\n",
       "| id|          val|\n",
       "+---+-------------+\n",
       "|  1|[, 2, , 2, 4]|\n",
       "+---+-------------+"
      ]
     },
     "execution_count": 9,
     "metadata": {},
     "output_type": "execute_result"
    }
   ],
   "source": [
    "# query for replacing elements from a arrayType Column\n",
    "qry=\"\"\"\n",
    "select \n",
    "id,\n",
    "split(replace(concat_ws(',',val),'null',''),',') as val\n",
    "from\n",
    "dfTable\n",
    "\"\"\"\n",
    "spark.sql(qry)"
   ]
  },
  {
   "cell_type": "markdown",
   "metadata": {},
   "source": [
    "3. remove columns with all values as null"
   ]
  },
  {
   "cell_type": "code",
   "execution_count": 14,
   "metadata": {},
   "outputs": [],
   "source": [
    "schema=StructType([StructField('col1',IntegerType()),StructField('col2',IntegerType()),StructField('col3',IntegerType())])\n",
    "data=[Row(**{'col1':1,'col2':None,'col3':1}),\n",
    "Row(**{'col1':1,'col2':None,'col3':1}),\n",
    "Row(**{'col1':1,'col2':None,'col3':None}),\n",
    "Row(**{'col1':1,'col2':None,'col3':1})]"
   ]
  },
  {
   "cell_type": "code",
   "execution_count": 16,
   "metadata": {},
   "outputs": [],
   "source": [
    "df=spark.createDataFrame(data,schema=schema)"
   ]
  },
  {
   "cell_type": "code",
   "execution_count": 21,
   "metadata": {},
   "outputs": [
    {
     "name": "stdout",
     "output_type": "stream",
     "text": [
      "+----+----+----+\n",
      "|col1|col2|col3|\n",
      "+----+----+----+\n",
      "|   1|null|   1|\n",
      "|   1|null|   1|\n",
      "|   1|null|null|\n",
      "|   1|null|   1|\n",
      "+----+----+----+\n",
      "\n"
     ]
    }
   ],
   "source": [
    "df.show()"
   ]
  },
  {
   "cell_type": "code",
   "execution_count": 53,
   "metadata": {},
   "outputs": [],
   "source": [
    "def getDropList(df):\n",
    "    \n",
    "    colsToDrop=df.rdd.\\\n",
    "    map(lambda x : x.asDict()).\\\n",
    "    flatMap(lambda x : list(x.items())).\\\n",
    "    groupByKey().\\\n",
    "    mapValues(set).\\\n",
    "    filter(lambda x : list(x[1])[0]==None and len(x[1])==1).\\\n",
    "    collect()\n",
    "    \n",
    "    if len(colsToDrop)>0:\n",
    "        return [x[0] for x in colsToDrop]\n",
    "        "
   ]
  },
  {
   "cell_type": "code",
   "execution_count": 55,
   "metadata": {},
   "outputs": [
    {
     "data": {
      "text/html": [
       "<table border='1'>\n",
       "<tr><th>col1</th><th>col3</th></tr>\n",
       "<tr><td>1</td><td>1</td></tr>\n",
       "<tr><td>1</td><td>1</td></tr>\n",
       "<tr><td>1</td><td>null</td></tr>\n",
       "<tr><td>1</td><td>1</td></tr>\n",
       "</table>\n"
      ],
      "text/plain": [
       "+----+----+\n",
       "|col1|col3|\n",
       "+----+----+\n",
       "|   1|   1|\n",
       "|   1|   1|\n",
       "|   1|null|\n",
       "|   1|   1|\n",
       "+----+----+"
      ]
     },
     "execution_count": 55,
     "metadata": {},
     "output_type": "execute_result"
    }
   ],
   "source": [
    "df.drop(*getDropList(df))"
   ]
  },
  {
   "cell_type": "code",
   "execution_count": 43,
   "metadata": {},
   "outputs": [],
   "source": []
  },
  {
   "cell_type": "code",
   "execution_count": 45,
   "metadata": {},
   "outputs": [
    {
     "data": {
      "text/plain": [
       "2"
      ]
     },
     "execution_count": 45,
     "metadata": {},
     "output_type": "execute_result"
    }
   ],
   "source": []
  },
  {
   "cell_type": "code",
   "execution_count": null,
   "metadata": {},
   "outputs": [],
   "source": []
  }
 ],
 "metadata": {
  "kernelspec": {
   "display_name": "Pyspark 3",
   "language": "python",
   "name": "pyspark3"
  },
  "language_info": {
   "codemirror_mode": {
    "name": "ipython",
    "version": 3
   },
   "file_extension": ".py",
   "mimetype": "text/x-python",
   "name": "python",
   "nbconvert_exporter": "python",
   "pygments_lexer": "ipython3",
   "version": "3.6.12"
  }
 },
 "nbformat": 4,
 "nbformat_minor": 4
}
