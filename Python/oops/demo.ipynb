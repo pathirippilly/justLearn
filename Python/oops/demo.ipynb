{
 "cells": [
  {
   "cell_type": "markdown",
   "id": "a492e948",
   "metadata": {},
   "source": [
    "# Property decorator demo"
   ]
  },
  {
   "cell_type": "code",
   "execution_count": 1,
   "id": "d00402d7",
   "metadata": {},
   "outputs": [],
   "source": [
    "from oops_demo_source import Employee"
   ]
  },
  {
   "cell_type": "code",
   "execution_count": 2,
   "id": "62812a49",
   "metadata": {},
   "outputs": [],
   "source": [
    "emp1=Employee(\"Akhil Pathirippilly mana\")"
   ]
  },
  {
   "cell_type": "markdown",
   "id": "64e60206",
   "metadata": {},
   "source": [
    "* Below are getters implemented using property decorator\n",
    "    > emp1.email and emp1.full_name are getters implemented using property decorator"
   ]
  },
  {
   "cell_type": "code",
   "execution_count": 8,
   "id": "7c6e8b5f",
   "metadata": {},
   "outputs": [
    {
     "name": "stdout",
     "output_type": "stream",
     "text": [
      "Email is :Akhil.Pathirippillymana@xyzcompany.com\n",
      "Full name is : Akhil Pathirippilly mana\n"
     ]
    }
   ],
   "source": [
    "print(f\"Email is :{emp1.email}\")\n",
    "print(f\"Full name is : {emp1.full_name}\")"
   ]
  },
  {
   "cell_type": "markdown",
   "id": "4e61e42d",
   "metadata": {},
   "source": [
    "* Below is assignment for full name is possible because of setter implementation"
   ]
  },
  {
   "cell_type": "code",
   "execution_count": 10,
   "id": "b285e7ca",
   "metadata": {},
   "outputs": [
    {
     "name": "stdout",
     "output_type": "stream",
     "text": [
      "first name before name change  is : Akhil\n",
      "last name before name change  is : Pathirippilly mana\n",
      "first name after name change  is : Akhil\n",
      "last name after name change  is : P\n"
     ]
    }
   ],
   "source": [
    "print(f\"first name before name change  is : {emp1.first}\")\n",
    "print(f\"last name before name change  is : {emp1.last}\")\n",
    "#Name change using setter\n",
    "emp1.full_name=\"Akhil P\"\n",
    "\n",
    "print(f\"first name after name change  is : {emp1.first}\")\n",
    "print(f\"last name after name change  is : {emp1.last}\")"
   ]
  },
  {
   "cell_type": "code",
   "execution_count": 9,
   "id": "090e2e49",
   "metadata": {},
   "outputs": [],
   "source": [
    "a='abc'\n",
    "b='ccc'"
   ]
  },
  {
   "cell_type": "code",
   "execution_count": 12,
   "id": "01174f32",
   "metadata": {},
   "outputs": [
    {
     "data": {
      "text/plain": [
       "True"
      ]
     },
     "execution_count": 12,
     "metadata": {},
     "output_type": "execute_result"
    }
   ],
   "source": [
    "(a < b)"
   ]
  },
  {
   "cell_type": "code",
   "execution_count": null,
   "id": "18508d74",
   "metadata": {},
   "outputs": [],
   "source": []
  }
 ],
 "metadata": {
  "kernelspec": {
   "display_name": "Python 3 (ipykernel)",
   "language": "python",
   "name": "python3"
  },
  "language_info": {
   "codemirror_mode": {
    "name": "ipython",
    "version": 3
   },
   "file_extension": ".py",
   "mimetype": "text/x-python",
   "name": "python",
   "nbconvert_exporter": "python",
   "pygments_lexer": "ipython3",
   "version": "3.9.7"
  }
 },
 "nbformat": 4,
 "nbformat_minor": 5
}
