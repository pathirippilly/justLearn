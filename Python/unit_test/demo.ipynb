{
 "cells": [
  {
   "cell_type": "markdown",
   "id": "a492e948",
   "metadata": {},
   "source": [
    "# Property decorator demo"
   ]
  },
  {
   "cell_type": "code",
   "execution_count": 1,
   "id": "d00402d7",
   "metadata": {},
   "outputs": [],
   "source": [
    "from oops_demo_source import Employee,EtlBaseClass,EtlColumnConfigBaseClass\n",
    "import os"
   ]
  },
  {
   "cell_type": "code",
   "execution_count": 2,
   "id": "62812a49",
   "metadata": {},
   "outputs": [],
   "source": [
    "emp1=Employee(\"Akhil Pathirippilly mana\")"
   ]
  },
  {
   "cell_type": "markdown",
   "id": "64e60206",
   "metadata": {},
   "source": [
    "* Below are getters implemented using property decorator\n",
    "    > emp1.email and emp1.full_name are getters implemented using property decorator"
   ]
  },
  {
   "cell_type": "code",
   "execution_count": 3,
   "id": "7c6e8b5f",
   "metadata": {},
   "outputs": [
    {
     "name": "stdout",
     "output_type": "stream",
     "text": [
      "Email is :akhil.pathirippillymana@xyzcompany.com\n",
      "Full name is : Akhil Pathirippilly mana\n"
     ]
    }
   ],
   "source": [
    "print(f\"Email is :{emp1.email}\")\n",
    "print(f\"Full name is : {emp1.full_name}\")"
   ]
  },
  {
   "cell_type": "markdown",
   "id": "4e61e42d",
   "metadata": {},
   "source": [
    "* Below is assignment for full name is possible because of setter implementation"
   ]
  },
  {
   "cell_type": "code",
   "execution_count": 4,
   "id": "b285e7ca",
   "metadata": {},
   "outputs": [
    {
     "name": "stdout",
     "output_type": "stream",
     "text": [
      "first name before name change  is : Akhil\n",
      "last name before name change  is : Pathirippilly mana\n",
      "first name after name change  is : Akhil\n",
      "last name after name change  is : P\n"
     ]
    }
   ],
   "source": [
    "print(f\"first name before name change  is : {emp1.first}\")\n",
    "print(f\"last name before name change  is : {emp1.last}\")\n",
    "#Name change using setter\n",
    "emp1.full_name=\"Akhil P\"\n",
    "\n",
    "print(f\"first name after name change  is : {emp1.first}\")\n",
    "print(f\"last name after name change  is : {emp1.last}\")"
   ]
  },
  {
   "cell_type": "code",
   "execution_count": 5,
   "id": "8a0b0673",
   "metadata": {},
   "outputs": [],
   "source": [
    "col_conf=EtlColumnConfigBaseClass('./data_conf.yml')"
   ]
  },
  {
   "cell_type": "code",
   "execution_count": 6,
   "id": "bc462d3a",
   "metadata": {},
   "outputs": [
    {
     "data": {
      "text/plain": [
       "{'datatype': 'str', 'is_partition_col': False, 'is_Nullable': True}"
      ]
     },
     "execution_count": 6,
     "metadata": {},
     "output_type": "execute_result"
    }
   ],
   "source": [
    "col_conf.COL1"
   ]
  },
  {
   "cell_type": "code",
   "execution_count": 7,
   "id": "4d255716",
   "metadata": {},
   "outputs": [
    {
     "data": {
      "text/plain": [
       "'col1'"
      ]
     },
     "execution_count": 7,
     "metadata": {},
     "output_type": "execute_result"
    }
   ],
   "source": [
    "'COL1'.lower()"
   ]
  },
  {
   "cell_type": "markdown",
   "id": "120fd9ed",
   "metadata": {},
   "source": [
    "# Class Demo"
   ]
  },
  {
   "cell_type": "code",
   "execution_count": 16,
   "id": "be02e6d4",
   "metadata": {},
   "outputs": [],
   "source": [
    "class EtlBaseClass():\n",
    "    pass"
   ]
  },
  {
   "cell_type": "code",
   "execution_count": 17,
   "id": "2a667f00",
   "metadata": {},
   "outputs": [],
   "source": [
    "obj1=EtlBaseClass()\n",
    "obj2=EtlBaseClass()"
   ]
  },
  {
   "cell_type": "code",
   "execution_count": 18,
   "id": "17bab9f3",
   "metadata": {},
   "outputs": [
    {
     "data": {
      "text/plain": [
       "2105204092864"
      ]
     },
     "execution_count": 18,
     "metadata": {},
     "output_type": "execute_result"
    }
   ],
   "source": [
    "obj1.name=''"
   ]
  },
  {
   "cell_type": "code",
   "execution_count": 20,
   "id": "2f53a867",
   "metadata": {},
   "outputs": [
    {
     "data": {
      "text/plain": [
       "type"
      ]
     },
     "execution_count": 20,
     "metadata": {},
     "output_type": "execute_result"
    }
   ],
   "source": [
    "type(EtlBaseClass)"
   ]
  },
  {
   "cell_type": "code",
   "execution_count": 25,
   "id": "45a2cc37",
   "metadata": {},
   "outputs": [
    {
     "ename": "NameError",
     "evalue": "name 'cls' is not defined",
     "output_type": "error",
     "traceback": [
      "\u001b[1;31m---------------------------------------------------------------------------\u001b[0m",
      "\u001b[1;31mNameError\u001b[0m                                 Traceback (most recent call last)",
      "\u001b[1;32m~\\AppData\\Local\\Temp/ipykernel_20248/3837522809.py\u001b[0m in \u001b[0;36m<module>\u001b[1;34m\u001b[0m\n\u001b[1;32m----> 1\u001b[1;33m \u001b[0mobject\u001b[0m\u001b[1;33m.\u001b[0m\u001b[0m__new__\u001b[0m\u001b[1;33m(\u001b[0m\u001b[0mcls\u001b[0m\u001b[1;33m)\u001b[0m\u001b[1;33m\u001b[0m\u001b[1;33m\u001b[0m\u001b[0m\n\u001b[0m",
      "\u001b[1;31mNameError\u001b[0m: name 'cls' is not defined"
     ]
    }
   ],
   "source": [
    "object.__new__()"
   ]
  },
  {
   "cell_type": "code",
   "execution_count": 27,
   "id": "7b7dd1ad",
   "metadata": {},
   "outputs": [],
   "source": [
    "abc = property(lambda self: object(), lambda self, v: None, lambda self: None)"
   ]
  },
  {
   "cell_type": "code",
   "execution_count": 38,
   "id": "01ff2555",
   "metadata": {},
   "outputs": [
    {
     "data": {
      "text/plain": [
       "<property at 0x1ea2a43bbd0>"
      ]
     },
     "execution_count": 38,
     "metadata": {},
     "output_type": "execute_result"
    }
   ],
   "source": [
    "abc.setter('ddd')"
   ]
  },
  {
   "cell_type": "code",
   "execution_count": 39,
   "id": "b37425ea",
   "metadata": {},
   "outputs": [
    {
     "data": {
      "text/plain": [
       "<property at 0x1ea2a45e7c0>"
      ]
     },
     "execution_count": 39,
     "metadata": {},
     "output_type": "execute_result"
    }
   ],
   "source": [
    "val1.getter('ddd')"
   ]
  },
  {
   "cell_type": "code",
   "execution_count": null,
   "id": "8124d575",
   "metadata": {},
   "outputs": [],
   "source": []
  }
 ],
 "metadata": {
  "kernelspec": {
   "display_name": "Python 3 (ipykernel)",
   "language": "python",
   "name": "python3"
  },
  "language_info": {
   "codemirror_mode": {
    "name": "ipython",
    "version": 3
   },
   "file_extension": ".py",
   "mimetype": "text/x-python",
   "name": "python",
   "nbconvert_exporter": "python",
   "pygments_lexer": "ipython3",
   "version": "3.9.7"
  }
 },
 "nbformat": 4,
 "nbformat_minor": 5
}
