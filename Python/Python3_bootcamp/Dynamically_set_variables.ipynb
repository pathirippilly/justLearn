{
 "cells": [
  {
   "cell_type": "code",
   "execution_count": 1,
   "id": "bcedaaf2",
   "metadata": {},
   "outputs": [],
   "source": [
    "source_list=['salesforce','oracle','mainframe']"
   ]
  },
  {
   "cell_type": "markdown",
   "id": "0e39935c",
   "metadata": {},
   "source": [
    "# Dynamically set variables"
   ]
  },
  {
   "cell_type": "markdown",
   "id": "08fbe6be",
   "metadata": {},
   "source": [
    "1. Using Dictionaries"
   ]
  },
  {
   "cell_type": "code",
   "execution_count": 2,
   "id": "f5d0a088",
   "metadata": {},
   "outputs": [],
   "source": [
    "#Declarion of Empty dict \n",
    "vars_dict={}\n",
    "\n",
    "#Adding variables as keys\n",
    "for source in source_list:\n",
    "    vars_dict[f'{source}_config']=\"<Some Config>\""
   ]
  },
  {
   "cell_type": "code",
   "execution_count": 3,
   "id": "4614ce0b",
   "metadata": {},
   "outputs": [
    {
     "data": {
      "text/plain": [
       "{'salesforce_config': '<Some Config>',\n",
       " 'oracle_config': '<Some Config>',\n",
       " 'mainframe_config': '<Some Config>'}"
      ]
     },
     "execution_count": 3,
     "metadata": {},
     "output_type": "execute_result"
    }
   ],
   "source": [
    "# All varaiables will be available as keys\n",
    "vars_dict"
   ]
  },
  {
   "cell_type": "code",
   "execution_count": 4,
   "id": "0271f464",
   "metadata": {},
   "outputs": [
    {
     "data": {
      "text/plain": [
       "'<Some Config>'"
      ]
     },
     "execution_count": 4,
     "metadata": {},
     "output_type": "execute_result"
    }
   ],
   "source": [
    "# Accessing the variable\n",
    "vars_dict['salesforce_config']"
   ]
  },
  {
   "cell_type": "markdown",
   "id": "18142550",
   "metadata": {},
   "source": [
    "2. Using global and local name space builtins\n"
   ]
  },
  {
   "cell_type": "code",
   "execution_count": 5,
   "id": "631b5ff0",
   "metadata": {},
   "outputs": [],
   "source": [
    "# global declaration or initialization. Adding variables dynamically to global symbol table.\n",
    "for source in source_list:\n",
    "    globals()[f'{source}_config']=f\"{source}_<Some global Config>\""
   ]
  },
  {
   "cell_type": "code",
   "execution_count": 6,
   "id": "436fc752",
   "metadata": {},
   "outputs": [
    {
     "name": "stdout",
     "output_type": "stream",
     "text": [
      "salesforce_<Some global Config> mainframe_<Some global Config> oracle_<Some global Config>\n"
     ]
    }
   ],
   "source": [
    "#After adding variables to global scope, we can access them as normal variables like below \n",
    "print(salesforce_config,mainframe_config,oracle_config)"
   ]
  },
  {
   "cell_type": "markdown",
   "id": "3f30c8c7",
   "metadata": {},
   "source": [
    "3. using setattr inside a class"
   ]
  },
  {
   "cell_type": "code",
   "execution_count": 14,
   "id": "c18a8eac",
   "metadata": {},
   "outputs": [],
   "source": [
    "#setting instance variables dynamically during instantiation \n",
    "class configs:\n",
    "    def __init__(self,source_list):\n",
    "        for source in source_list:\n",
    "            setattr(self,f'{source}_config',f\"{source}_<Some object Config>\")"
   ]
  },
  {
   "cell_type": "code",
   "execution_count": 15,
   "id": "d9834efa",
   "metadata": {},
   "outputs": [],
   "source": [
    "source_configs=configs(source_list)"
   ]
  },
  {
   "cell_type": "code",
   "execution_count": 16,
   "id": "ac4d4928",
   "metadata": {},
   "outputs": [
    {
     "name": "stdout",
     "output_type": "stream",
     "text": [
      "salesforce_<Some object Config> mainframe_<Some object Config> oracle_<Some object Config>\n"
     ]
    }
   ],
   "source": [
    "print(source_configs.salesforce_config,source_configs.mainframe_config,source_configs.oracle_config)"
   ]
  },
  {
   "cell_type": "code",
   "execution_count": 19,
   "id": "0140a78b",
   "metadata": {},
   "outputs": [],
   "source": [
    "#Setting variable dynamically using a setter method\n",
    "class configs:\n",
    "    def set_configs(self,config_var_name,config_val):\n",
    "        setattr(self,config_var_name,config_val)"
   ]
  },
  {
   "cell_type": "code",
   "execution_count": 20,
   "id": "fd300615",
   "metadata": {},
   "outputs": [],
   "source": [
    "source_configs=configs()"
   ]
  },
  {
   "cell_type": "code",
   "execution_count": 22,
   "id": "bb845806",
   "metadata": {},
   "outputs": [],
   "source": [
    "for source in source_list:\n",
    "     source_configs.set_configs(f'{source}_config',f\"{source}_<Some setter Config>\")"
   ]
  },
  {
   "cell_type": "code",
   "execution_count": 23,
   "id": "cfcdc905",
   "metadata": {},
   "outputs": [
    {
     "name": "stdout",
     "output_type": "stream",
     "text": [
      "salesforce_<Some setter Config> mainframe_<Some setter Config> oracle_<Some setter Config>\n"
     ]
    }
   ],
   "source": [
    "print(source_configs.salesforce_config,source_configs.mainframe_config,source_configs.oracle_config)"
   ]
  },
  {
   "cell_type": "markdown",
   "id": "7796459e",
   "metadata": {},
   "source": [
    "4. Using exec"
   ]
  },
  {
   "cell_type": "code",
   "execution_count": 29,
   "id": "894ea982",
   "metadata": {},
   "outputs": [],
   "source": [
    "# Complete line of code for initializing a variable is  passed as an argument to exec here.\n",
    "for source in source_list:\n",
    "    exec(f\"{source}_config = '{source}_<Some exec Config>'\")"
   ]
  },
  {
   "cell_type": "code",
   "execution_count": 31,
   "id": "8c8e3832",
   "metadata": {},
   "outputs": [
    {
     "name": "stdout",
     "output_type": "stream",
     "text": [
      "salesforce_<Some exec Config> mainframe_<Some exec Config> oracle_<Some exec Config>\n"
     ]
    }
   ],
   "source": [
    "# Now those variables will be available over global namespace\n",
    "print(salesforce_config,mainframe_config,oracle_config)"
   ]
  },
  {
   "cell_type": "code",
   "execution_count": null,
   "id": "c1199d15",
   "metadata": {},
   "outputs": [],
   "source": []
  }
 ],
 "metadata": {
  "kernelspec": {
   "display_name": "Python 3 (ipykernel)",
   "language": "python",
   "name": "python3"
  },
  "language_info": {
   "codemirror_mode": {
    "name": "ipython",
    "version": 3
   },
   "file_extension": ".py",
   "mimetype": "text/x-python",
   "name": "python",
   "nbconvert_exporter": "python",
   "pygments_lexer": "ipython3",
   "version": "3.9.7"
  }
 },
 "nbformat": 4,
 "nbformat_minor": 5
}
