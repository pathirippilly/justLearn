{
 "cells": [
  {
   "cell_type": "code",
   "execution_count": 5,
   "id": "fc93496f",
   "metadata": {},
   "outputs": [],
   "source": [
    "from dataStructs import LinkedList"
   ]
  },
  {
   "cell_type": "code",
   "execution_count": 6,
   "id": "564f9ac8",
   "metadata": {},
   "outputs": [],
   "source": [
    "l=LinkedList(5,9,4,3,8)"
   ]
  },
  {
   "cell_type": "code",
   "execution_count": 7,
   "id": "1885e0f2",
   "metadata": {},
   "outputs": [
    {
     "name": "stdout",
     "output_type": "stream",
     "text": [
      "5\n",
      "9\n",
      "4\n",
      "3\n",
      "8\n"
     ]
    }
   ],
   "source": [
    "for i in l:\n",
    "    print(i)"
   ]
  },
  {
   "cell_type": "code",
   "execution_count": 8,
   "id": "25247924",
   "metadata": {},
   "outputs": [
    {
     "data": {
      "text/plain": [
       "LinkedList(8,3,4,9,5)"
      ]
     },
     "execution_count": 8,
     "metadata": {},
     "output_type": "execute_result"
    }
   ],
   "source": [
    "reversed(l)"
   ]
  },
  {
   "cell_type": "code",
   "execution_count": 61,
   "id": "ce244fad",
   "metadata": {},
   "outputs": [],
   "source": [
    "arr=[5,4,3,2,1,0,-22]"
   ]
  },
  {
   "cell_type": "code",
   "execution_count": 62,
   "id": "39a723d6",
   "metadata": {},
   "outputs": [],
   "source": [
    "from typing import List,Any\n",
    "\n",
    "def binary_search(arr: List[int],query,asc=True):\n",
    "    query=1\n",
    "    start=0\n",
    "    end=len(arr)-1\n",
    "    iteration=0\n",
    "    while start<=end:\n",
    "        mid=(start+end)//2\n",
    "        print(start,mid,end)\n",
    "        mid_element=arr[mid]\n",
    "        print(mid_element)\n",
    "        if mid_element == query:\n",
    "            return {'index':mid,'iteration':iteration}\n",
    "        elif (mid_element>query and asc) or (mid_element<query and not asc) :\n",
    "            end=mid-1\n",
    "        else:\n",
    "            start=mid+1\n",
    "        iteration=iteration+1\n",
    "        \n",
    "            \n",
    "    return {'index':-1,'iteration':iteration}"
   ]
  },
  {
   "cell_type": "code",
   "execution_count": 64,
   "id": "1d8d1650",
   "metadata": {},
   "outputs": [
    {
     "name": "stdout",
     "output_type": "stream",
     "text": [
      "0 3 6\n",
      "2\n",
      "4 5 6\n",
      "0\n",
      "4 4 4\n",
      "1\n"
     ]
    },
    {
     "data": {
      "text/plain": [
       "{'index': 4, 'iteration': 2}"
      ]
     },
     "execution_count": 64,
     "metadata": {},
     "output_type": "execute_result"
    }
   ],
   "source": [
    "binary_search(arr,0,asc=False)"
   ]
  },
  {
   "cell_type": "code",
   "execution_count": null,
   "id": "2bbf9afd",
   "metadata": {},
   "outputs": [],
   "source": []
  }
 ],
 "metadata": {
  "kernelspec": {
   "display_name": "Python 3 (ipykernel)",
   "language": "python",
   "name": "python3"
  },
  "language_info": {
   "codemirror_mode": {
    "name": "ipython",
    "version": 3
   },
   "file_extension": ".py",
   "mimetype": "text/x-python",
   "name": "python",
   "nbconvert_exporter": "python",
   "pygments_lexer": "ipython3",
   "version": "3.9.7"
  }
 },
 "nbformat": 4,
 "nbformat_minor": 5
}
