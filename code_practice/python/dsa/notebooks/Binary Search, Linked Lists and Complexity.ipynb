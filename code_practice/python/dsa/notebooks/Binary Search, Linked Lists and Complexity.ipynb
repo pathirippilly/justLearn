{
 "cells": [
  {
   "cell_type": "code",
   "execution_count": 1,
   "id": "fc93496f",
   "metadata": {},
   "outputs": [],
   "source": [
    "from dsa.search import binary_search,linear_search\n",
    "from env.logger import CustomLogging\n",
    "from functools import wraps\n",
    "import time\n",
    "from utils.datetime_utils import round_it"
   ]
  },
  {
   "cell_type": "code",
   "execution_count": 6,
   "id": "adbf2506",
   "metadata": {},
   "outputs": [
    {
     "name": "stdout",
     "output_type": "stream",
     "text": [
      "2022-04-19 22:50:03,564 - root - INFO  : misc_utils --> wrapper --> execution time of binary_search is 0 secs\n"
     ]
    },
    {
     "data": {
      "text/plain": [
       "{'index': 10, 'iteration': 3}"
      ]
     },
     "execution_count": 6,
     "metadata": {},
     "output_type": "execute_result"
    }
   ],
   "source": [
    "arr1=[1,2,2,2,2,2,3,3,4,4,5,5,8,8,9]\n",
    "query=5\n",
    "binary_search(arr1,query,first_occurrence=True)"
   ]
  },
  {
   "cell_type": "code",
   "execution_count": null,
   "id": "0adbf348",
   "metadata": {},
   "outputs": [],
   "source": [
    "arr=list(range(100000))\n",
    "query=9999\n",
    "linear_search(arr,query)"
   ]
  },
  {
   "cell_type": "code",
   "execution_count": null,
   "id": "d14a3f4a",
   "metadata": {},
   "outputs": [],
   "source": [
    "arr=list(range(100000))\n",
    "query=9999\n",
    "binary_search(arr,query)"
   ]
  },
  {
   "cell_type": "code",
   "execution_count": null,
   "id": "a4f90ba1",
   "metadata": {},
   "outputs": [],
   "source": []
  }
 ],
 "metadata": {
  "kernelspec": {
   "display_name": "Python 3 (ipykernel)",
   "language": "python",
   "name": "python3"
  },
  "language_info": {
   "codemirror_mode": {
    "name": "ipython",
    "version": 3
   },
   "file_extension": ".py",
   "mimetype": "text/x-python",
   "name": "python",
   "nbconvert_exporter": "python",
   "pygments_lexer": "ipython3",
   "version": "3.9.7"
  }
 },
 "nbformat": 4,
 "nbformat_minor": 5
}
